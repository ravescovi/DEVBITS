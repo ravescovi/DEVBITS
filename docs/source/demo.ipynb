{
 "cells": [
  {
   "cell_type": "markdown",
   "metadata": {},
   "source": [
    "# Demo: Notebook Startup"
   ]
  },
  {
   "cell_type": "code",
   "execution_count": null,
   "metadata": {},
   "outputs": [
    {
     "name": "stderr",
     "output_type": "stream",
     "text": [
      "I Thu-17:24:34.649: **************************************** Bluesky Startup Initialized\n"
     ]
    },
    {
     "name": "stdout",
     "output_type": "stream",
     "text": [
      "\n",
      "Below are the IPython logging settings for your session.\n",
      "These settings have no impact on your experiment.\n",
      "\n",
      "Activating auto-logging. Current session state plus future input saved.\n",
      "Filename       : /home/beams1/JEMIAN/Documents/projects/BCDA-APS/bs_model_instrument/docs/source/.logs/ipython_log.py\n",
      "Mode           : rotate\n",
      "Output logging : True\n",
      "Raw input log  : False\n",
      "Timestamping   : True\n",
      "State          : active\n"
     ]
    },
    {
     "name": "stderr",
     "output_type": "stream",
     "text": [
      "W Thu-17:24:36.071: APS DM setup file does not exist: '/home/dm/etc/dm.setup.sh'\n"
     ]
    },
    {
     "name": "stdout",
     "output_type": "stream",
     "text": [
      "Exception reporting mode: Minimal\n",
      "\n",
      "End of IPython settings\n",
      "\n"
     ]
    },
    {
     "name": "stderr",
     "output_type": "stream",
     "text": [
      "I Thu-17:24:40.706: Databroker catalog: temp\n",
      "I Thu-17:24:41.271: RunEngine metadata saved in directory: /home/beams/JEMIAN/.config/Bluesky_RunEngine_md\n",
      "I Thu-17:24:41.296: using ophyd control layer: 'pyepics'\n",
      "I Thu-17:24:42.053: SPEC data file: /home/beams1/JEMIAN/Documents/projects/BCDA-APS/bs_model_instrument/docs/source/20241031-172442.dat\n"
     ]
    }
   ],
   "source": [
    "from bits.demo_instrument.startup import *  # noqa"
   ]
  },
  {
   "cell_type": "markdown",
   "metadata": {},
   "source": [
    "Run the plans with simulated controls."
   ]
  },
  {
   "cell_type": "code",
   "execution_count": 2,
   "metadata": {},
   "outputs": [
    {
     "name": "stdout",
     "output_type": "stream",
     "text": [
      "sim_print_plan(): This is a test.\n",
      "sim_print_plan():  sim_motor.position=0  sim_det.read()=OrderedDict([('noisy_det', {'value': 1.0248434173924217, 'timestamp': 1730413480.6081476})]).\n"
     ]
    },
    {
     "data": {
      "text/plain": [
       "()"
      ]
     },
     "execution_count": 2,
     "metadata": {},
     "output_type": "execute_result"
    }
   ],
   "source": [
    "RE(sim_print_plan())"
   ]
  },
  {
   "cell_type": "code",
   "execution_count": 3,
   "metadata": {},
   "outputs": [
    {
     "name": "stdout",
     "output_type": "stream",
     "text": [
      "\n",
      "\n",
      "Transient Scan ID: 3     Time: 2024-10-31 17:24:42\n",
      "Persistent Unique Scan ID: '10ad31d3-fda1-4450-8c68-36c8c6808e54'\n",
      "New stream: 'primary'\n",
      "+-----------+------------+------------+\n",
      "|   seq_num |       time |  noisy_det |\n",
      "+-----------+------------+------------+\n",
      "|         1 | 17:24:42.3 |   9999.999 |\n",
      "+-----------+------------+------------+\n",
      "generator count ['10ad31d3'] (scan num: 3)\n",
      "\n",
      "\n",
      "\n"
     ]
    },
    {
     "data": {
      "text/plain": [
       "('10ad31d3-fda1-4450-8c68-36c8c6808e54',)"
      ]
     },
     "execution_count": 3,
     "metadata": {},
     "output_type": "execute_result"
    }
   ],
   "source": [
    "RE(sim_count_plan())"
   ]
  },
  {
   "cell_type": "code",
   "execution_count": 4,
   "metadata": {},
   "outputs": [
    {
     "name": "stdout",
     "output_type": "stream",
     "text": [
      "sim_rel_scan_plan(): sim_motor.position=0.\n",
      "sim_rel_scan_plan(): sim_det.read()=OrderedDict([('noisy_det', {'value': 9999.999278102245, 'timestamp': 1730413482.3491757})]).\n",
      "sim_rel_scan_plan(): sim_det.read_configuration()=OrderedDict([('noisy_det_Imax', {'value': 10000, 'timestamp': 1730413482.4878476}), ('noisy_det_center', {'value': 0, 'timestamp': 1730413482.489344}), ('noisy_det_sigma', {'value': 1, 'timestamp': 1730413482.4905345}), ('noisy_det_noise', {'value': 'uniform', 'timestamp': 1730413482.4932268}), ('noisy_det_noise_multiplier', {'value': 0.1, 'timestamp': 1730413480.6077008})]).\n",
      "sim_rel_scan_plan(): sim_det.noise._enum_strs=('none', 'poisson', 'uniform').\n",
      "\n",
      "\n",
      "Transient Scan ID: 4     Time: 2024-10-31 17:24:42\n",
      "Persistent Unique Scan ID: '7f50cc40-0a89-4c30-9894-c1cf257f0946'\n",
      "New stream: 'primary'\n",
      "+-----------+------------+------------+------------+\n",
      "|   seq_num |       time |      motor |  noisy_det |\n",
      "+-----------+------------+------------+------------+\n",
      "|         1 | 17:24:42.5 |     -2.500 |    439.283 |\n",
      "|         2 | 17:24:42.6 |     -2.000 |   1353.366 |\n",
      "|         3 | 17:24:42.7 |     -1.500 |   3246.447 |\n",
      "|         4 | 17:24:42.7 |     -1.000 |   6065.363 |\n",
      "|         5 | 17:24:42.8 |     -0.500 |   8825.050 |\n",
      "|         6 | 17:24:42.9 |      0.000 |   9999.999 |\n",
      "|         7 | 17:24:42.9 |      0.500 |   8824.966 |\n",
      "|         8 | 17:24:43.0 |      1.000 |   6065.309 |\n",
      "|         9 | 17:24:43.0 |      1.500 |   3246.490 |\n",
      "|        10 | 17:24:43.1 |      2.000 |   1353.368 |\n",
      "|        11 | 17:24:43.1 |      2.500 |    439.322 |\n",
      "+-----------+------------+------------+------------+\n",
      "generator rel_scan ['7f50cc40'] (scan num: 4)\n",
      "\n",
      "\n",
      "\n"
     ]
    },
    {
     "data": {
      "text/plain": [
       "('7f50cc40-0a89-4c30-9894-c1cf257f0946',)"
      ]
     },
     "execution_count": 4,
     "metadata": {},
     "output_type": "execute_result"
    },
    {
     "data": {
      "image/png": "[encoded data removed]",
      "text/plain": [
       "<Figure size 500x500 with 1 Axes>"
      ]
     },
     "metadata": {},
     "output_type": "display_data"
    }
   ],
   "source": [
    "RE(sim_rel_scan_plan())"
   ]
  }
 ],
 "metadata": {
  "kernelspec": {
   "display_name": "bs_model_env",
   "language": "python",
   "name": "python3"
  },
  "language_info": {
   "codemirror_mode": {
    "name": "ipython",
    "version": 3
   },
   "file_extension": ".py",
   "mimetype": "text/x-python",
   "name": "python",
   "nbconvert_exporter": "python",
   "pygments_lexer": "ipython3",
   "version": "3.11.10"
  }
 },
 "nbformat": 4,
 "nbformat_minor": 2
}
